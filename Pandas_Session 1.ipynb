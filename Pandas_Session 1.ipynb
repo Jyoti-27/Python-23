{
 "cells": [
  {
   "cell_type": "code",
   "execution_count": 1,
   "metadata": {},
   "outputs": [],
   "source": [
    "import numpy as np\n",
    "import pandas as pd"
   ]
  },
  {
   "cell_type": "code",
   "execution_count": 3,
   "metadata": {},
   "outputs": [
    {
     "name": "stdout",
     "output_type": "stream",
     "text": [
      "1.0.1\n"
     ]
    }
   ],
   "source": [
    "print(pd.__version__)\n",
    "pd?"
   ]
  },
  {
   "cell_type": "markdown",
   "metadata": {},
   "source": [
    "Type:        module\n",
    "String form: <module 'pandas' from 'C:\\\\Users\\\\HP\\\\anaconda4\\\\lib\\\\site-packages\\\\pandas\\\\__init__.py'>\n",
    "File:        c:\\users\\hp\\anaconda4\\lib\\site-packages\\pandas\\__init__.py\n",
    "Docstring:  \n",
    "pandas - a powerful data analysis and manipulation library for Python\n",
    "=====================================================================\n",
    "\n",
    "**pandas** is a Python package providing fast, flexible, and expressive data\n",
    "structures designed to make working with \"relational\" or \"labeled\" data both\n",
    "easy and intuitive. It aims to be the fundamental high-level building block for\n",
    "doing practical, **real world** data analysis in Python. Additionally, it has\n",
    "the broader goal of becoming **the most powerful and flexible open source data\n",
    "analysis / manipulation tool available in any language**. It is already well on\n",
    "its way toward this goal.\n",
    "\n",
    "Main Features\n",
    "-------------\n",
    "Here are just a few of the things that pandas does well:\n",
    "\n",
    "  - Easy handling of missing data in floating point as well as non-floating\n",
    "    point data.\n",
    "  - Size mutability: columns can be inserted and deleted from DataFrame and\n",
    "    higher dimensional objects\n",
    "  - Automatic and explicit data alignment: objects can be explicitly aligned\n",
    "    to a set of labels, or the user can simply ignore the labels and let\n",
    "    `Series`, `DataFrame`, etc. automatically align the data for you in\n",
    "    computations.\n",
    "  - Powerful, flexible group by functionality to perform split-apply-combine\n",
    "    operations on data sets, for both aggregating and transforming data.\n",
    "  - Make it easy to convert ragged, differently-indexed data in other Python\n",
    "    and NumPy data structures into DataFrame objects.\n",
    "  - Intelligent label-based slicing, fancy indexing, and subsetting of large\n",
    "    data sets.\n",
    "  - Intuitive merging and joining data sets.\n",
    "  - Flexible reshaping and pivoting of data sets.\n",
    "  - Hierarchical labeling of axes (possible to have multiple labels per tick).\n",
    "  - Robust IO tools for loading data from flat files (CSV and delimited),\n",
    "    Excel files, databases, and saving/loading data from the ultrafast HDF5\n",
    "    format.\n",
    "  - Time series-specific functionality: date range generation and frequency\n",
    "    conversion, moving window statistics, date shifting and lagging."
   ]
  },
  {
   "cell_type": "code",
   "execution_count": 9,
   "metadata": {},
   "outputs": [
    {
     "name": "stdout",
     "output_type": "stream",
     "text": [
      "0    10\n",
      "1    20\n",
      "2    30\n",
      "3    40\n",
      "4    50\n",
      "dtype: int64\n",
      "RangeIndex(start=0, stop=5, step=1)\n",
      "[10 20 30 40 50]\n",
      "Type of the series\n",
      " <class 'pandas.core.series.Series'>\n",
      "Type of elements\n",
      " int64\n"
     ]
    }
   ],
   "source": [
    "series = pd.Series([10,20,30,40,50]) # default indexing\n",
    "print(series)\n",
    "print(series.index)\n",
    "print(series.values)\n",
    "print(\"Type of the series\\n\", type(series))\n",
    "print(\"Type of elements\\n\", (series.values.dtype))"
   ]
  },
  {
   "cell_type": "code",
   "execution_count": 10,
   "metadata": {},
   "outputs": [
    {
     "name": "stdout",
     "output_type": "stream",
     "text": [
      "13    10\n",
      "14    20\n",
      "15    30\n",
      "16    40\n",
      "17    50\n",
      "dtype: int64\n"
     ]
    }
   ],
   "source": [
    "index = [13,14,15,16,17]\n",
    "series = pd.Series([10,20,30,40,50], index = index)\n",
    "print(series)"
   ]
  },
  {
   "cell_type": "code",
   "execution_count": 14,
   "metadata": {},
   "outputs": [
    {
     "name": "stdout",
     "output_type": "stream",
     "text": [
      "A    10\n",
      "B    20\n",
      "C    30\n",
      "D    40\n",
      "E    50\n",
      "dtype: int64\n"
     ]
    }
   ],
   "source": [
    "index = ['A','B','C','D','E']\n",
    "series = pd.Series([10,20,30,40,50], index = index)\n",
    "print(series)"
   ]
  },
  {
   "cell_type": "code",
   "execution_count": 16,
   "metadata": {},
   "outputs": [
    {
     "name": "stdout",
     "output_type": "stream",
     "text": [
      "0    10\n",
      "1    20\n",
      "2    30\n",
      "3    40\n",
      "4    50\n",
      "dtype: int32\n"
     ]
    }
   ],
   "source": [
    "# Create using numpy array\n",
    "arr = np.array([10, 20, 30, 40, 50])\n",
    "series = pd.Series(arr) # default indexing\n",
    "print(series)"
   ]
  },
  {
   "cell_type": "code",
   "execution_count": 17,
   "metadata": {},
   "outputs": [
    {
     "name": "stdout",
     "output_type": "stream",
     "text": [
      "{'a': 10, 'b': 20, 'c': 30, 'd': 40, 'e': 50}\n"
     ]
    }
   ],
   "source": [
    "dict = {'a':10, 'b':20, 'c':30, 'd':40, 'e':50}\n",
    "print(dict)"
   ]
  },
  {
   "cell_type": "code",
   "execution_count": 20,
   "metadata": {},
   "outputs": [
    {
     "name": "stdout",
     "output_type": "stream",
     "text": [
      "a    10\n",
      "b    20\n",
      "c    30\n",
      "d    40\n",
      "e    50\n",
      "dtype: int64\n",
      "Series is \n",
      " a    10\n",
      "b    20\n",
      "c    30\n",
      "d    40\n",
      "e    50\n",
      "dtype: int64\n",
      "True\n",
      "Indices are:  Index(['a', 'b', 'c', 'd', 'e'], dtype='object') \n",
      " Elements of the series are :  [10 20 30 40 50]\n"
     ]
    }
   ],
   "source": [
    "ser_dict = pd.Series(dict)\n",
    "print(ser_dict)\n",
    "print(\"Series is \\n\", ser_dict)\n",
    "print(\"b\" in ser_dict)\n",
    "print('Indices are: ', ser_dict.index, '\\n Elements of the series are : ' , ser_dict.values)"
   ]
  },
  {
   "cell_type": "code",
   "execution_count": 21,
   "metadata": {},
   "outputs": [
    {
     "name": "stdout",
     "output_type": "stream",
     "text": [
      "0    10\n",
      "1    20\n",
      "2    30\n",
      "3    40\n",
      "4    50\n",
      "5    60\n",
      "dtype: int64\n",
      "40\n",
      "1    20\n",
      "2    30\n",
      "3    40\n",
      "dtype: int64\n",
      "0    10\n",
      "1    20\n",
      "2    30\n",
      "3    40\n",
      "dtype: int64\n"
     ]
    }
   ],
   "source": [
    "# indexing and slicing\n",
    "ser_list = pd.Series([10,20,30,40,50,60])\n",
    "print(ser_list)\n",
    "print(ser_list[3])\n",
    "print(ser_list[1:4])\n",
    "print(ser_list[:4])"
   ]
  },
  {
   "cell_type": "code",
   "execution_count": 22,
   "metadata": {},
   "outputs": [
    {
     "name": "stdout",
     "output_type": "stream",
     "text": [
      "0    10.5\n",
      "1    20.5\n",
      "2    30.5\n",
      "3    40.5\n",
      "4    50.5\n",
      "5    60.5\n",
      "dtype: float64\n",
      "40.5\n",
      "1    20.5\n",
      "2    30.5\n",
      "3    40.5\n",
      "dtype: float64\n",
      "0    10.5\n",
      "1    20.5\n",
      "2    30.5\n",
      "3    40.5\n",
      "dtype: float64\n",
      "d    40\n",
      "e    50\n",
      "dtype: int64\n",
      "b    20\n",
      "d    40\n",
      "dtype: int64\n"
     ]
    }
   ],
   "source": [
    "# indexing and slicing\n",
    "ser_list = pd.Series([10.5,20.5,30.5,40.5,50.5,60.5])\n",
    "print(ser_list)\n",
    "print(ser_list[3])\n",
    "print(ser_list[1:4])\n",
    "print(ser_list[:4])\n",
    "print(ser_dict[3:])\n",
    "print(ser_dict[1:4:2])"
   ]
  },
  {
   "cell_type": "code",
   "execution_count": 26,
   "metadata": {},
   "outputs": [
    {
     "name": "stdout",
     "output_type": "stream",
     "text": [
      "b    20\n",
      "d    40\n",
      "dtype: int64\n"
     ]
    }
   ],
   "source": [
    "# indexing and slicing\n",
    "ser_list = pd.Series([10.5,20.5,30.5,40.5,50.5,60.5])\n",
    "#print(ser_list)\n",
    "#print(ser_list[3])\n",
    "#print(ser_list[1:4])\n",
    "#print(ser_list[:4])\n",
    "#print(ser_dict[3:])\n",
    "print(ser_dict[1:4:2])"
   ]
  },
  {
   "cell_type": "code",
   "execution_count": 23,
   "metadata": {},
   "outputs": [
    {
     "name": "stdout",
     "output_type": "stream",
     "text": [
      "3    40.5\n",
      "2    30.5\n",
      "dtype: float64\n"
     ]
    }
   ],
   "source": [
    "# Fancy Indexing\n",
    "ser_list = pd.Series([10.5,20.5,30.5,40.5,50.5,60.5])\n",
    "ser_slice = pd.Series(ser_list,index=[3,2])  # select rows with index\n",
    "print(ser_slice)"
   ]
  },
  {
   "cell_type": "markdown",
   "metadata": {},
   "source": [
    "## Slicing and Accesssing with the explicit index"
   ]
  },
  {
   "cell_type": "code",
   "execution_count": 31,
   "metadata": {},
   "outputs": [
    {
     "name": "stdout",
     "output_type": "stream",
     "text": [
      "dictionary is {'a': 10, 'b': 20, 'c': 30, 'd': 40, 'e': 50}\n",
      "10\n",
      "a    10\n",
      "b    20\n",
      "c    30\n",
      "dtype: int64\n",
      "ser_dict[:'d']:\n",
      " a    10\n",
      "b    20\n",
      "c    30\n",
      "d    40\n",
      "dtype: int64\n",
      "ser_dict[['b', 'e']] :\n",
      " b    20\n",
      "e    50\n",
      "dtype: int64\n",
      "b    20\n",
      "c    30\n",
      "dtype: int64\n"
     ]
    }
   ],
   "source": [
    "# Accessing series elements in a dictionary way.This is with explicit index or key.\n",
    "dict = {'a':10, 'b':20, 'c':30, 'd':40, 'e':50} # creating a Dictionary\n",
    "print(\"dictionary is\", dict)\n",
    "ser_dict = pd.Series(dict)\n",
    "# print(ser_dict.index)\n",
    "print(ser_dict['a'])\n",
    "print(ser_dict['a':'c'])  #1:4\n",
    "print(\"ser_dict[:'d']:\\n\", ser_dict[:'d'])\n",
    "print(\"ser_dict[['b', 'e']] :\\n\", ser_dict[['b', 'e']])  # Fancy Indexing\n",
    "print(ser_dict[1:3]) # with explicit indexdefault index also exists"
   ]
  },
  {
   "cell_type": "code",
   "execution_count": 33,
   "metadata": {},
   "outputs": [
    {
     "name": "stdout",
     "output_type": "stream",
     "text": [
      "Series([], dtype: int64)\n"
     ]
    }
   ],
   "source": [
    "#Problem that may arise with implicit and explicit indexing\n",
    "#Consider an Example where the explicit index is also a number\n",
    "s = pd.Series([5,4,3,2],  index=[100, 200, 300,400])  # index has to be given as 2nd parameter\n",
    "#print(\"Series is : \\n\", s, '\\n Indices are : ', s.index) \n",
    "print(s[100:300])     #100 and 300 not the default index\n",
    "#print(s[1:3])"
   ]
  },
  {
   "cell_type": "code",
   "execution_count": 34,
   "metadata": {},
   "outputs": [
    {
     "name": "stdout",
     "output_type": "stream",
     "text": [
      "Series is : \n",
      " 100    5\n",
      "200    4\n",
      "300    3\n",
      "400    2\n",
      "dtype: int64 \n",
      " Indices are :  Int64Index([100, 200, 300, 400], dtype='int64')\n",
      "Series([], dtype: int64)\n",
      "200    4\n",
      "300    3\n",
      "dtype: int64\n"
     ]
    }
   ],
   "source": [
    "#Problem that may arise with implicit and explicit indexing\n",
    "#Consider an Example where the explicit index is also a number\n",
    "s = pd.Series([5,4,3,2],  index=[100, 200, 300,400])  # index has to be given as 2nd parameter\n",
    "print(\"Series is : \\n\", s, '\\n Indices are : ', s.index) \n",
    "print(s[100:300])     #100 and 300 not the default index\n",
    "print(s[1:3])"
   ]
  },
  {
   "cell_type": "code",
   "execution_count": 35,
   "metadata": {},
   "outputs": [
    {
     "name": "stdout",
     "output_type": "stream",
     "text": [
      "Series is : \n",
      " 100    5\n",
      "200    4\n",
      "300    3\n",
      "400    2\n",
      "dtype: int64 \n",
      " Indices are :  Int64Index([100, 200, 300, 400], dtype='int64')\n",
      "Series with explicit index :s.loc[100:300]\n",
      " 100    5\n",
      "200    4\n",
      "300    3\n",
      "dtype: int64\n",
      "Implicit access  : s.iloc[2] \n",
      " 3\n",
      "Explicit access  : s.loc[200] \n",
      " 4\n"
     ]
    }
   ],
   "source": [
    "#the loc() - indexing and slicing with explicit index\n",
    "#the iloc() - indexing and slicing with implicit index\n",
    "s = pd.Series([5,4,3,2],  index=[100, 200, 300,400])  # index has to be given as 2nd parameter\n",
    "print(\"Series is : \\n\", s, '\\n Indices are : ', s.index)\n",
    "print(\"Series with explicit index :s.loc[100:300]\\n\", s.loc[100:300])  #it will take the end value too\n",
    "#print(\"Series with implicit index:  s.iloc[1:3] \\n\" , s.iloc[1:3])\n",
    "print('Implicit access  : s.iloc[2] \\n' , s.iloc[2])\n",
    "print('Explicit access  : s.loc[200] \\n' , s.loc[200])"
   ]
  },
  {
   "cell_type": "markdown",
   "metadata": {},
   "source": [
    "## Difference between Implicit and Explicit Indexing\n",
    "## Explicit index use loc() series.loc[slice]. Slice will take start to stop\n",
    "## Implicit index use iloc() series.iloc[slice]. Slice will takestart to stop-1"
   ]
  },
  {
   "cell_type": "code",
   "execution_count": 36,
   "metadata": {},
   "outputs": [
    {
     "name": "stdout",
     "output_type": "stream",
     "text": [
      "Series is : \n",
      " 100    5\n",
      "100    4\n",
      "300    3\n",
      "400    2\n",
      "dtype: int64 \n",
      " Indices are :  Int64Index([100, 100, 300, 400], dtype='int64')\n",
      "100    5\n",
      "100    4\n",
      "300    3\n",
      "dtype: int64\n"
     ]
    }
   ],
   "source": [
    "#the loc() - indexing and slicing with explicit index\n",
    "#the iloc() - indexing and slicing with implicit index\n",
    "s = pd.Series([5,4,3,2],  index=[100, 100, 300,400])  # index has to be given as 2nd parameter\n",
    "print(\"Series is : \\n\", s, '\\n Indices are : ', s.index)\n",
    "print(s.loc[100:300]) # it will take the end of value too\n",
    "#print(\"Series with explicit index :s.loc[100:300]\\n\", s.loc[100:300])  #it will take the end value too\n",
    "#print(\"Series with implicit index:  s.iloc[1:3] \\n\" , s.iloc[1:3])\n",
    "#print('Implicit access  : s.iloc[2] \\n' , s.iloc[2])\n",
    "#print('Explicit access  : s.loc[200] \\n' , s.loc[200])"
   ]
  },
  {
   "cell_type": "code",
   "execution_count": 39,
   "metadata": {},
   "outputs": [
    {
     "name": "stdout",
     "output_type": "stream",
     "text": [
      "Series is : \n",
      " 100    5\n",
      "100    4\n",
      "300    3\n",
      "400    2\n",
      "dtype: int64 \n",
      " Indices are :  Int64Index([100, 100, 300, 400], dtype='int64')\n",
      "100    5\n",
      "100    4\n",
      "300    3\n",
      "dtype: int64\n",
      "Series with explicit index :s.loc[100:300]\n",
      " 100    5\n",
      "100    4\n",
      "300    3\n",
      "dtype: int64\n",
      "Series with implicit index:  s.iloc[1:3] \n",
      " 100    4\n",
      "300    3\n",
      "dtype: int64\n",
      "Implicit access  : s.iloc[2] \n",
      " 3\n",
      "100    5\n",
      "100    4\n",
      "dtype: int64\n"
     ]
    }
   ],
   "source": [
    "#the loc() - indexing and slicing with explicit index\n",
    "#the iloc() - indexing and slicing with implicit index\n",
    "s = pd.Series([5,4,3,2],  index=[100, 100, 300,400])  # index has to be given as 2nd parameter\n",
    "print(\"Series is : \\n\", s, '\\n Indices are : ', s.index)\n",
    "print(s.loc[100:300]) # it will take the end of value too\n",
    "print(\"Series with explicit index :s.loc[100:300]\\n\", s.loc[100:300])  #it will take the end value too\n",
    "print(\"Series with implicit index:  s.iloc[1:3] \\n\" , s.iloc[1:3])\n",
    "print('Implicit access  : s.iloc[2] \\n' , s.iloc[2])\n",
    "#print('Explicit access  : s.loc[200] \\n' , s.loc[200])\n",
    "print(s[100])"
   ]
  },
  {
   "cell_type": "code",
   "execution_count": null,
   "metadata": {},
   "outputs": [],
   "source": []
  },
  {
   "cell_type": "code",
   "execution_count": null,
   "metadata": {},
   "outputs": [],
   "source": []
  },
  {
   "cell_type": "code",
   "execution_count": null,
   "metadata": {},
   "outputs": [],
   "source": []
  },
  {
   "cell_type": "code",
   "execution_count": null,
   "metadata": {},
   "outputs": [],
   "source": []
  },
  {
   "cell_type": "code",
   "execution_count": null,
   "metadata": {},
   "outputs": [],
   "source": []
  },
  {
   "cell_type": "code",
   "execution_count": null,
   "metadata": {},
   "outputs": [],
   "source": []
  },
  {
   "cell_type": "code",
   "execution_count": null,
   "metadata": {},
   "outputs": [],
   "source": []
  },
  {
   "cell_type": "code",
   "execution_count": null,
   "metadata": {},
   "outputs": [],
   "source": []
  },
  {
   "cell_type": "code",
   "execution_count": null,
   "metadata": {},
   "outputs": [],
   "source": []
  }
 ],
 "metadata": {
  "kernelspec": {
   "display_name": "Python 3",
   "language": "python",
   "name": "python3"
  },
  "language_info": {
   "codemirror_mode": {
    "name": "ipython",
    "version": 3
   },
   "file_extension": ".py",
   "mimetype": "text/x-python",
   "name": "python",
   "nbconvert_exporter": "python",
   "pygments_lexer": "ipython3",
   "version": "3.7.6"
  }
 },
 "nbformat": 4,
 "nbformat_minor": 4
}
